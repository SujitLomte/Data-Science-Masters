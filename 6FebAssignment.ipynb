{
 "cells": [
  {
   "cell_type": "markdown",
   "id": "1bca964b-16f8-4928-bca8-7f9124cc8ce4",
   "metadata": {},
   "source": [
    "# 6 Feb Assignment"
   ]
  },
  {
   "cell_type": "markdown",
   "id": "7d41abab-4b21-437e-aca7-3fa68ced2fc5",
   "metadata": {},
   "source": [
    "## Q-1  Create a function which will take a list as an argument and return the product of all the numbers after creating a flat list.\n",
    "## Use the below-given list as an argument for your function.\n"
   ]
  },
  {
   "cell_type": "code",
   "execution_count": 4,
   "id": "00a59c68-a799-488f-bab1-505391fcbc96",
   "metadata": {},
   "outputs": [],
   "source": [
    "list1 = [1,2,3,4, [44,55,66, True], False, (34,56,78,89,34), {1,2,3,3,2,1}, {1:34, \"key2\": [55, 67, 78, 89], 4: (45, \n",
    "22, 61, 34)}, [56, 'data science'], 'Machine Learning']"
   ]
  },
  {
   "cell_type": "code",
   "execution_count": 5,
   "id": "fb54b598-da70-41d8-a8bf-b23c11dcd2ce",
   "metadata": {},
   "outputs": [
    {
     "name": "stdout",
     "output_type": "stream",
     "text": [
      "[1, 2, 3, 4, 44, 55, 66, 34, 56, 78, 89, 34, 1, 2, 3, 1, 34, 55, 67, 78, 89, 4, 45, 22, 61, 34, 56]\n"
     ]
    }
   ],
   "source": [
    "def is_integer(x):\n",
    "    return not isinstance(x, bool) and isinstance(x, int)\n",
    "\n",
    "def get_numbers(o):\n",
    "    if isinstance(o, dict):\n",
    "        for k, v in o.items():\n",
    "            if is_integer(k):\n",
    "                yield k\n",
    "            yield from get_numbers(v)\n",
    "    elif isinstance(o, (list, tuple, set)):\n",
    "        for v in o:\n",
    "            if is_integer(v):\n",
    "                yield v\n",
    "            else:\n",
    "                yield from get_numbers(v)\n",
    "    else:\n",
    "        if is_integer(o):\n",
    "            yield o\n",
    "\n",
    "list1 = [1,2,3,4, [44,55,66, True], False, (34,56,78,89,34), {1,2,3,3,2,1}, {1:34, \"key2\": [55, 67, 78, 89], 4: (45, \n",
    "22, 61, 34)}, [56, 'data science'], 'Machine Learning']\n",
    "\n",
    "print(list(get_numbers(list1)))"
   ]
  },
  {
   "cell_type": "markdown",
   "id": "d9de953f-dcaf-4504-b86f-226b8507cc43",
   "metadata": {},
   "source": [
    "## Q-2  Write a python program for encrypting a message sent to you by your friend. The logic of encryption should be such that, for a the output should be z. For b, the output should be y. For c, the output should be x respectively. Also, the whitespace should be replaced with a dollar sign. Keep the punctuation marks unchanged.\n",
    "## Input Sentence: I want to become a Data Scientist\n",
    "## Encrypt the above input sentence using the program you just created\n",
    "## Note: Convert the given input sentence into lowercase before encrypting. The final output should be lowercase."
   ]
  },
  {
   "cell_type": "code",
   "execution_count": 6,
   "id": "1f335ca9-a0f7-4f7d-a75c-c2852787b517",
   "metadata": {},
   "outputs": [
    {
     "name": "stdout",
     "output_type": "stream",
     "text": [
      "Original message: I want to become a Data Scientist.\n",
      "Encrypted message: r$dzmg$gl$yvxlnv$z$wzgz$hxrvmgrhg.\n"
     ]
    }
   ],
   "source": [
    "def encrypt_message(message):\n",
    "    message = message.lower().replace(\" \", \"$\")\n",
    "    encrypted_message = \"\"\n",
    "    for char in message:\n",
    "        if char.isalpha():\n",
    "            char = chr(ord('a') + (ord('z') - ord(char)))\n",
    "        encrypted_message += char\n",
    "    return encrypted_message\n",
    "\n",
    "message = \"I want to become a Data Scientist.\"\n",
    "encrypted_message = encrypt_message(message)\n",
    "print(\"Original message:\", message)\n",
    "print(\"Encrypted message:\", encrypted_message)\n"
   ]
  },
  {
   "cell_type": "code",
   "execution_count": null,
   "id": "3957f6c4-221f-44df-b2b3-4ff7ab11ae1c",
   "metadata": {},
   "outputs": [],
   "source": []
  }
 ],
 "metadata": {
  "kernelspec": {
   "display_name": "Python 3 (ipykernel)",
   "language": "python",
   "name": "python3"
  },
  "language_info": {
   "codemirror_mode": {
    "name": "ipython",
    "version": 3
   },
   "file_extension": ".py",
   "mimetype": "text/x-python",
   "name": "python",
   "nbconvert_exporter": "python",
   "pygments_lexer": "ipython3",
   "version": "3.10.8"
  }
 },
 "nbformat": 4,
 "nbformat_minor": 5
}
