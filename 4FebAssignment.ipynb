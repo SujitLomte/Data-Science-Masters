{
 "cells": [
  {
   "cell_type": "markdown",
   "id": "974d654d-8f42-43ab-93b7-26425b4e1bac",
   "metadata": {},
   "source": [
    "# 4th Feb Assignment "
   ]
  },
  {
   "cell_type": "markdown",
   "id": "787e43ed-a599-4348-972f-c165ba3e7684",
   "metadata": {},
   "source": [
    "## Q-1  Create a python program to sort the given list of tuples based on integer value using a lambda function.[('Sachin Tendulkar', 34357), ('Ricky Ponting', 27483), ('Jack Kallis', 25534), ('Virat Kohli', 24936)]"
   ]
  },
  {
   "cell_type": "code",
   "execution_count": 4,
   "id": "5404ba30-84c7-471e-97ce-99856b073fba",
   "metadata": {},
   "outputs": [],
   "source": [
    "l0 = [('Sachin Tendulkar', 34357), ('Ricky Ponting', 27483), ('Jack Kallis', 25534), ('Virat Kohli', 24936)]"
   ]
  },
  {
   "cell_type": "code",
   "execution_count": 21,
   "id": "4a239bbe-d02f-41da-9f86-3b4416a212e3",
   "metadata": {},
   "outputs": [
    {
     "name": "stdout",
     "output_type": "stream",
     "text": [
      "[('Virat Kohli', 24936), ('Jack Kallis', 25534), ('Ricky Ponting', 27483), ('Sachin Tendulkar', 34357)]\n"
     ]
    }
   ],
   "source": [
    "l0.sort(key=lambda a: a[1])\n",
    "print(l0)"
   ]
  },
  {
   "cell_type": "markdown",
   "id": "27d4b9dc-08fd-4eae-9b37-8bedec619e4b",
   "metadata": {},
   "source": [
    "## Q-2  Write a Python Program to find the squares of all the numbers in the given list of integers using lambda and map functions.[1, 2, 3, 4, 5, 6, 7, 8, 9, 10]"
   ]
  },
  {
   "cell_type": "code",
   "execution_count": 6,
   "id": "676a9b3b-07ac-4aef-9870-1caa992ab57d",
   "metadata": {},
   "outputs": [],
   "source": [
    "l1 = [1,2,3,4,5,6,7,8,9,10]"
   ]
  },
  {
   "cell_type": "code",
   "execution_count": 7,
   "id": "da8885b1-dbce-4064-8c6e-b2f3e165a0d1",
   "metadata": {},
   "outputs": [
    {
     "data": {
      "text/plain": [
       "[1, 4, 9, 16, 25, 36, 49, 64, 81, 100]"
      ]
     },
     "execution_count": 7,
     "metadata": {},
     "output_type": "execute_result"
    }
   ],
   "source": [
    "list(map(lambda x : x**2 , l1))"
   ]
  },
  {
   "cell_type": "markdown",
   "id": "6ec2f6bf-92f7-4780-9467-94be30b54045",
   "metadata": {},
   "source": [
    "## Q-3 Write a python program to convert the given list of integers into a tuple of strings. Use map and lambda functions\n",
    "## Given String: [1, 2, 3, 4, 5, 6, 7, 8, 9, 10]\n",
    "## Expected output: ('1', '2', '3', '4', '5', '6', '7', '8', '9', '10')"
   ]
  },
  {
   "cell_type": "code",
   "execution_count": 8,
   "id": "c6a83693-90ef-49e7-8d51-dc927edaa9d1",
   "metadata": {},
   "outputs": [],
   "source": [
    "l2 = [1, 2, 3, 4, 5, 6, 7, 8, 9, 10]"
   ]
  },
  {
   "cell_type": "code",
   "execution_count": 9,
   "id": "f6913240-4ce0-4e43-80c0-a4c0899b662b",
   "metadata": {},
   "outputs": [
    {
     "data": {
      "text/plain": [
       "['1', '2', '3', '4', '5', '6', '7', '8', '9', '10']"
      ]
     },
     "execution_count": 9,
     "metadata": {},
     "output_type": "execute_result"
    }
   ],
   "source": [
    "list(map(lambda x : str(x), l2))"
   ]
  },
  {
   "cell_type": "raw",
   "id": "d82ed9e1-0545-49cc-a839-233517ea2bc0",
   "metadata": {},
   "source": []
  },
  {
   "cell_type": "markdown",
   "id": "707b9f20-9f20-4df0-8d2c-1241a8ec94e3",
   "metadata": {},
   "source": [
    "## Q-4 Write a python program using reduce function to compute the product of a list containing numbers from 1 to 25"
   ]
  },
  {
   "cell_type": "code",
   "execution_count": 10,
   "id": "b3e2f2d1-f9ea-4150-a48e-5b4388636f69",
   "metadata": {},
   "outputs": [],
   "source": [
    "from functools import reduce"
   ]
  },
  {
   "cell_type": "code",
   "execution_count": 11,
   "id": "bd991c06-6f15-4e91-b60c-a9e95f7ecaf2",
   "metadata": {},
   "outputs": [],
   "source": [
    "l3 = [1, 2, 3, 4, 5, 6, 7, 8, 9, 10, 11, 12, 13, 14, 15, 16, 17, 18, 19, 20, 21, 22, 23, 24, 25]"
   ]
  },
  {
   "cell_type": "code",
   "execution_count": 12,
   "id": "80c9313d-d295-45ba-872c-a2dce1d4f751",
   "metadata": {},
   "outputs": [
    {
     "data": {
      "text/plain": [
       "325"
      ]
     },
     "execution_count": 12,
     "metadata": {},
     "output_type": "execute_result"
    }
   ],
   "source": [
    "reduce(lambda x , y : x+y, l3)"
   ]
  },
  {
   "cell_type": "code",
   "execution_count": 13,
   "id": "3f466ae0-d4be-4eb4-a489-eee1b2bdc5a3",
   "metadata": {},
   "outputs": [
    {
     "data": {
      "text/plain": [
       "-323"
      ]
     },
     "execution_count": 13,
     "metadata": {},
     "output_type": "execute_result"
    }
   ],
   "source": [
    "reduce(lambda x , y : x-y, l3)"
   ]
  },
  {
   "cell_type": "code",
   "execution_count": 14,
   "id": "47a1f6f9-a007-46bb-98c2-5b08e6203709",
   "metadata": {},
   "outputs": [
    {
     "data": {
      "text/plain": [
       "15511210043330985984000000"
      ]
     },
     "execution_count": 14,
     "metadata": {},
     "output_type": "execute_result"
    }
   ],
   "source": [
    "reduce(lambda x , y : x*y, l3)"
   ]
  },
  {
   "cell_type": "code",
   "execution_count": 15,
   "id": "acba5383-fdc3-410b-bb41-253c1f5ab6b7",
   "metadata": {},
   "outputs": [
    {
     "data": {
      "text/plain": [
       "1"
      ]
     },
     "execution_count": 15,
     "metadata": {},
     "output_type": "execute_result"
    }
   ],
   "source": [
    "reduce(lambda x , y : x%y, l3)"
   ]
  },
  {
   "cell_type": "markdown",
   "id": "1c3b3747-9f4f-44cd-8d30-468de7b060ed",
   "metadata": {},
   "source": [
    "## Q-5 . Write a python program to filter the numbers in a given list that are divisible by 2 and 3 using the filter function.\n",
    "## [2, 3, 6, 9, 27, 60, 90, 120, 55, 46]"
   ]
  },
  {
   "cell_type": "code",
   "execution_count": 16,
   "id": "9ff0564e-9397-497f-a8be-42182fb2eb1c",
   "metadata": {},
   "outputs": [],
   "source": [
    "div = [2, 3, 6, 9, 27, 60, 90, 120, 55, 46]"
   ]
  },
  {
   "cell_type": "code",
   "execution_count": 17,
   "id": "2715f711-826b-4aa2-8cfa-2c0d0b099646",
   "metadata": {},
   "outputs": [
    {
     "data": {
      "text/plain": [
       "[2, 6, 60, 90, 120, 46]"
      ]
     },
     "execution_count": 17,
     "metadata": {},
     "output_type": "execute_result"
    }
   ],
   "source": [
    "list(filter(lambda x : x % 2 == 0, div))"
   ]
  },
  {
   "cell_type": "code",
   "execution_count": 18,
   "id": "8ab92879-4316-4612-b61e-7a37dc25a732",
   "metadata": {},
   "outputs": [
    {
     "data": {
      "text/plain": [
       "[3, 6, 9, 27, 60, 90, 120]"
      ]
     },
     "execution_count": 18,
     "metadata": {},
     "output_type": "execute_result"
    }
   ],
   "source": [
    "list(filter(lambda x : x % 3 == 0, div))"
   ]
  },
  {
   "cell_type": "markdown",
   "id": "066ef774-5fa2-4d2d-8da4-1498c246b11e",
   "metadata": {},
   "source": [
    "## Q-6  Write a python program to find palindromes in the given list of strings using lambda and filter function.\n",
    "## ['python', 'php', 'aba', 'radar', 'level']"
   ]
  },
  {
   "cell_type": "code",
   "execution_count": 19,
   "id": "a293f306-77fe-406e-9a82-f3e87d76b1ee",
   "metadata": {},
   "outputs": [],
   "source": [
    "texts = ['python', 'php', 'aba', 'radar', 'level']"
   ]
  },
  {
   "cell_type": "code",
   "execution_count": 20,
   "id": "690c7e28-0a57-49ab-930a-6088425819dc",
   "metadata": {},
   "outputs": [
    {
     "name": "stdout",
     "output_type": "stream",
     "text": [
      "['php', 'aba', 'radar', 'level']\n"
     ]
    }
   ],
   "source": [
    "result = list(filter(lambda x : (x == \"\".join(reversed(x))), texts))\n",
    "print(result)"
   ]
  },
  {
   "cell_type": "code",
   "execution_count": null,
   "id": "b9170d0c-f6ab-442b-8ec5-508d8fd026c9",
   "metadata": {},
   "outputs": [],
   "source": []
  },
  {
   "cell_type": "code",
   "execution_count": null,
   "id": "660e38d4-8a8b-49ff-b664-cffb888c870f",
   "metadata": {},
   "outputs": [],
   "source": []
  },
  {
   "cell_type": "code",
   "execution_count": null,
   "id": "7a631448-a849-4942-82a4-19314e08fa52",
   "metadata": {},
   "outputs": [],
   "source": []
  }
 ],
 "metadata": {
  "kernelspec": {
   "display_name": "Python 3 (ipykernel)",
   "language": "python",
   "name": "python3"
  },
  "language_info": {
   "codemirror_mode": {
    "name": "ipython",
    "version": 3
   },
   "file_extension": ".py",
   "mimetype": "text/x-python",
   "name": "python",
   "nbconvert_exporter": "python",
   "pygments_lexer": "ipython3",
   "version": "3.10.8"
  }
 },
 "nbformat": 4,
 "nbformat_minor": 5
}
