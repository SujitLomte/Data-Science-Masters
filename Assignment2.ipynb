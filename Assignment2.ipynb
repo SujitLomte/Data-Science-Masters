{
 "cells": [
  {
   "cell_type": "code",
   "execution_count": 1,
   "id": "9e8112c0-54d8-4e51-b505-e546887dbc90",
   "metadata": {},
   "outputs": [
    {
     "name": "stdin",
     "output_type": "stream",
     "text": [
      "Enter your Percentage =  91\n"
     ]
    },
    {
     "name": "stdout",
     "output_type": "stream",
     "text": [
      "A\n"
     ]
    }
   ],
   "source": [
    "# Question 1\n",
    "per = float(input('Enter your Percentage = '))\n",
    "if per>90:\n",
    "    print('A')\n",
    "elif per>80 and per<=90:\n",
    "    print('B')\n",
    "elif per>=60 and per<=80:\n",
    "    print('C')\n",
    "else:\n",
    "    print('D')"
   ]
  },
  {
   "cell_type": "code",
   "execution_count": 2,
   "id": "c096ca46-fa1c-4b69-b9bb-c138c0c82fc4",
   "metadata": {},
   "outputs": [
    {
     "name": "stdin",
     "output_type": "stream",
     "text": [
      "Price =  150000\n"
     ]
    },
    {
     "name": "stdout",
     "output_type": "stream",
     "text": [
      "Tax price =  22500.0\n"
     ]
    }
   ],
   "source": [
    "# Question 2\n",
    "price = int(input('Price = '))\n",
    "tax = None\n",
    "if price<=50000:\n",
    "    tax= price*0.05\n",
    "elif price>50000 and price<=100000:\n",
    "    tax = price*0.10\n",
    "else:\n",
    "    tax = price*0.15\n",
    "print('Tax price = ',tax)\n"
   ]
  },
  {
   "cell_type": "code",
   "execution_count": 3,
   "id": "6d1ff73f-3d78-4239-9404-cc5592b362d5",
   "metadata": {},
   "outputs": [
    {
     "name": "stdin",
     "output_type": "stream",
     "text": [
      "Enter the city name =  delhi\n"
     ]
    },
    {
     "name": "stdout",
     "output_type": "stream",
     "text": [
      "Red Fort\n"
     ]
    }
   ],
   "source": [
    "# question 3\n",
    "city = input('Enter the city name = ').capitalize()\n",
    "if city == 'Delhi':\n",
    "    print('Red Fort')\n",
    "elif city == 'Agra':\n",
    "    print('Taj Mahal')\n",
    "elif city == 'Jaipur':\n",
    "    print('Jal Mahal')\n",
    "else:\n",
    "    pass"
   ]
  },
  {
   "cell_type": "code",
   "execution_count": 4,
   "id": "932ea602-da9a-461c-bc9d-9007de209cc6",
   "metadata": {},
   "outputs": [
    {
     "name": "stdin",
     "output_type": "stream",
     "text": [
      "enter a number =  105\n"
     ]
    },
    {
     "name": "stdout",
     "output_type": "stream",
     "text": [
      "No of times =  3\n"
     ]
    }
   ],
   "source": [
    "# Question 4\n",
    "num = int(input('enter a number = '))\n",
    "ctr=0\n",
    "while num>10:\n",
    "    num = num/3;\n",
    "    ctr+=1\n",
    "print('No of times = ',ctr)"
   ]
  },
  {
   "cell_type": "markdown",
   "id": "bd43684b-1d56-44b3-af52-8f58250eb14e",
   "metadata": {},
   "source": [
    "Question 5\n",
    "\n",
    "while loop is basically used for creating infinite loops. for loop has restrictions for infinite loop. that's why while loop is used.\n",
    "\n",
    "while True: print('pwskills')\n",
    "\n",
    "This above example leads to an infinite loop."
   ]
  },
  {
   "cell_type": "code",
   "execution_count": 7,
   "id": "b77a4488-d665-47b8-bf5f-d050e7c1deb6",
   "metadata": {},
   "outputs": [
    {
     "name": "stdout",
     "output_type": "stream",
     "text": [
      "\n",
      "1st\n",
      "\n",
      "     * \n",
      "    * * \n",
      "   * * * \n",
      "  * * * * \n",
      " * * * * * \n",
      "2nd\n",
      "\n",
      "* \n",
      "* * \n",
      "* * * \n",
      "* * * * \n",
      "* * * * * \n",
      "\n",
      "3rd\n",
      "\n",
      "* * * * * * \n",
      "* * * * * \n",
      "* * * * \n",
      "* * * \n",
      "* * \n"
     ]
    }
   ],
   "source": [
    "# Question 6\n",
    "n=5\n",
    "\n",
    "print('\\n1st\\n')\n",
    "i=0\n",
    "while i<n:\n",
    "    sp=n-1\n",
    "    while sp>=i:\n",
    "        print(end=' ')\n",
    "        sp-=1\n",
    "    j=0\n",
    "    while j<=i:\n",
    "        print('*',end=' ')\n",
    "        j+=1\n",
    "    i+=1\n",
    "    print()\n",
    "\n",
    "print('2nd\\n')\n",
    "i=0\n",
    "while i<n:\n",
    "    j=0\n",
    "    while j<=i:\n",
    "        print('*',end=' ')\n",
    "        j+=1\n",
    "    i+=1\n",
    "    print()\n",
    "    \n",
    "\n",
    "print('\\n3rd\\n')\n",
    "i=0\n",
    "while i<n:\n",
    "    j=n\n",
    "    while j>=i:\n",
    "        print('*',end=' ')\n",
    "        j-=1\n",
    "    i+=1\n",
    "    print()\n",
    "    \n"
   ]
  },
  {
   "cell_type": "code",
   "execution_count": 8,
   "id": "0cf31034-f737-4e92-a311-cbfeec6f4104",
   "metadata": {},
   "outputs": [
    {
     "name": "stdout",
     "output_type": "stream",
     "text": [
      "10\n",
      "9\n",
      "8\n",
      "7\n",
      "6\n",
      "5\n",
      "4\n",
      "3\n",
      "2\n",
      "1\n"
     ]
    }
   ],
   "source": [
    "# Question 7\n",
    "num=10\n",
    "while num>0:\n",
    "    print(num)\n",
    "    num-=1"
   ]
  },
  {
   "cell_type": "code",
   "execution_count": 10,
   "id": "382a8ac1-0b8b-41e3-b019-70280a449695",
   "metadata": {},
   "outputs": [
    {
     "name": "stdout",
     "output_type": "stream",
     "text": [
      "10\n",
      "9\n",
      "8\n",
      "7\n",
      "6\n",
      "5\n",
      "4\n",
      "3\n",
      "2\n",
      "1\n"
     ]
    }
   ],
   "source": [
    "# Question 8\n",
    "num=10\n",
    "while num>0:\n",
    "    print(num)\n",
    "    num-=1"
   ]
  },
  {
   "cell_type": "code",
   "execution_count": null,
   "id": "c3056a36-800d-41a5-81f5-51b6601ffcb0",
   "metadata": {},
   "outputs": [],
   "source": []
  }
 ],
 "metadata": {
  "kernelspec": {
   "display_name": "Python 3 (ipykernel)",
   "language": "python",
   "name": "python3"
  },
  "language_info": {
   "codemirror_mode": {
    "name": "ipython",
    "version": 3
   },
   "file_extension": ".py",
   "mimetype": "text/x-python",
   "name": "python",
   "nbconvert_exporter": "python",
   "pygments_lexer": "ipython3",
   "version": "3.10.8"
  }
 },
 "nbformat": 4,
 "nbformat_minor": 5
}
