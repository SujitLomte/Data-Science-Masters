{
 "cells": [
  {
   "cell_type": "markdown",
   "id": "83f481fc-0aa6-4902-a8d8-95b061c016d4",
   "metadata": {},
   "source": [
    "# 3 Feb Assignment"
   ]
  },
  {
   "cell_type": "markdown",
   "id": "0fdde3bf-d739-4fbe-a0ca-c8ecabc20ce1",
   "metadata": {},
   "source": [
    "## Q1. Which keyword is used to create a function? Create a function to return a list of odd numbers in the range of 1 to 25"
   ]
  },
  {
   "cell_type": "markdown",
   "id": "448ae4b2-7cc0-47f0-bbd8-76e5da14c9e2",
   "metadata": {},
   "source": [
    "## Ans- The def keyword is used to create, (or define) a function."
   ]
  },
  {
   "cell_type": "code",
   "execution_count": 5,
   "id": "489a0efb-675c-4ca0-a26e-f71a1650aefa",
   "metadata": {},
   "outputs": [],
   "source": [
    "def odd_numbers(a,b):\n",
    "  return [x for x in range(a,b) if x % 2 == 1]"
   ]
  },
  {
   "cell_type": "code",
   "execution_count": 6,
   "id": "04dac93a-5337-4bda-ab18-f2d4f511bd0c",
   "metadata": {},
   "outputs": [
    {
     "data": {
      "text/plain": [
       "[1, 3, 5, 7, 9, 11, 13, 15, 17, 19, 21, 23]"
      ]
     },
     "execution_count": 6,
     "metadata": {},
     "output_type": "execute_result"
    }
   ],
   "source": [
    "odd_numbers(1,25)"
   ]
  },
  {
   "cell_type": "markdown",
   "id": "a3be23b5-26fb-4825-8843-487ce7731709",
   "metadata": {},
   "source": [
    "## Q-2 Why *args and **kwargs is used in some function? Create a function each for *args and **kwargs to demonstrate their use."
   ]
  },
  {
   "cell_type": "markdown",
   "id": "5d11cd60-3c42-4ca3-9770-0d4302d1b9a7",
   "metadata": {},
   "source": [
    "## Ans- The problem arises when we have a variable number of arguments. We can use *args and **kwargs as arguments of a function when you are unsure about the number of arguments to pass in the functions."
   ]
  },
  {
   "cell_type": "code",
   "execution_count": 7,
   "id": "49a6ef46-0655-4725-a8d4-e8e12102ece6",
   "metadata": {},
   "outputs": [],
   "source": [
    "## For Ex-\n",
    "def test(*args):\n",
    "    l=[]\n",
    "    for i in args:\n",
    "        if type(i) == list:\n",
    "            l.append(i)\n",
    "            \n",
    "    return l\n",
    "     "
   ]
  },
  {
   "cell_type": "code",
   "execution_count": 8,
   "id": "5dfd4add-adcd-4913-aa65-dc1400ac9291",
   "metadata": {},
   "outputs": [
    {
     "data": {
      "text/plain": [
       "[[1, 2, 3, 4, 5], [1, 2.5, 3.5, 4.5]]"
      ]
     },
     "execution_count": 8,
     "metadata": {},
     "output_type": "execute_result"
    }
   ],
   "source": [
    "test(1,2,3,[1,2,3,4,5],[1,2.5,3.5,4.5],\"Anil\")"
   ]
  },
  {
   "cell_type": "code",
   "execution_count": 9,
   "id": "b705ab49-c0b9-4b98-9712-859c9044e906",
   "metadata": {},
   "outputs": [],
   "source": [
    "def test1(**kwargs):\n",
    "    for i in kwargs.keys():\n",
    "        if type(kwargs[i] ) == list :\n",
    "            return i , kwargs[i]"
   ]
  },
  {
   "cell_type": "code",
   "execution_count": 10,
   "id": "f16b6daf-3aa3-4510-9f1b-1f9477e9ed6b",
   "metadata": {},
   "outputs": [
    {
     "data": {
      "text/plain": [
       "('c', [1, 2, 3, 4])"
      ]
     },
     "execution_count": 10,
     "metadata": {},
     "output_type": "execute_result"
    }
   ],
   "source": [
    "test1(a=34, b = 23, c = [1,2,3,4], d = (\"anil\" , \"sunil\"))"
   ]
  },
  {
   "cell_type": "markdown",
   "id": "a6b6b520-2c0c-4fd8-b88c-17f20aad39c2",
   "metadata": {},
   "source": [
    "## Q-3  What is an iterator in python? Name the method used to initialise the iterator object and the method used for iteration. Use these methods to print the first five elements of the given list [2, 4, 6, 8, 10, 12, 14, 16, 18, 20]"
   ]
  },
  {
   "cell_type": "markdown",
   "id": "ecf2a850-a1bb-474f-bcec-d5619df73814",
   "metadata": {},
   "source": [
    "## Ans- An iterator is an object that contains a countable number of values. An iterator is an object that can be iterated upon, meaning that you can traverse through all the values.\n",
    "## In Python, an iterator is an object which implements the iterator protocol, which consist of the methods __iter__() and __next__()."
   ]
  },
  {
   "cell_type": "code",
   "execution_count": 18,
   "id": "2284e1fb-6f78-4386-9507-b81e432da210",
   "metadata": {},
   "outputs": [],
   "source": [
    "mylist = [2, 4, 6, 8, 10, 12, 14, 16, 18, 20]"
   ]
  },
  {
   "cell_type": "code",
   "execution_count": 19,
   "id": "6ed8d2f8-a32a-43a1-8c9a-b259834f413a",
   "metadata": {},
   "outputs": [
    {
     "name": "stdout",
     "output_type": "stream",
     "text": [
      "2\n",
      "4\n",
      "6\n",
      "8\n",
      "10\n"
     ]
    }
   ],
   "source": [
    "myit = iter(mylist)\n",
    "print(next(myit))\n",
    "print(next(myit))\n",
    "print(next(myit))\n",
    "print(next(myit))\n",
    "print(next(myit))"
   ]
  },
  {
   "cell_type": "markdown",
   "id": "f13c54e0-30fc-40df-8dba-b149e452d952",
   "metadata": {},
   "source": [
    "## Q-4  What is a generator function in python? Why yield keyword is used? Give an example of a generator function."
   ]
  },
  {
   "cell_type": "markdown",
   "id": "bc067490-9e1f-4e41-ab98-29d942a0eab6",
   "metadata": {},
   "source": [
    "## Ans- Python Generator functions allow you to declare a function that behaves likes an iterator, allowing programmers to make an iterator in a fast, easy, and clean way. yield keyword is used to create a generator function. A type of function that is memory efficient and can be used like an iterator object."
   ]
  },
  {
   "cell_type": "code",
   "execution_count": 12,
   "id": "b60becbf-0062-430f-9636-ddcf206c5c4a",
   "metadata": {},
   "outputs": [],
   "source": [
    "def test_fib(n) :\n",
    "    a,b = 0,1\n",
    "    for i in range(n):\n",
    "        yield a \n",
    "        a,b =b , a+b"
   ]
  },
  {
   "cell_type": "code",
   "execution_count": 13,
   "id": "392d1a18-de68-42b4-b4ac-af9a0b15df01",
   "metadata": {},
   "outputs": [
    {
     "name": "stdout",
     "output_type": "stream",
     "text": [
      "0\n",
      "1\n",
      "1\n",
      "2\n",
      "3\n",
      "5\n",
      "8\n",
      "13\n",
      "21\n",
      "34\n"
     ]
    }
   ],
   "source": [
    "for i in test_fib(10) :\n",
    "    print(i)"
   ]
  },
  {
   "cell_type": "markdown",
   "id": "65e497fe-1a78-4bfc-8eed-270d27e38825",
   "metadata": {},
   "source": [
    "## Q-5  Create a generator function for prime numbers less than 1000. Use the next() method to print the first 20 prime numbers."
   ]
  },
  {
   "cell_type": "code",
   "execution_count": 34,
   "id": "0ec7ff31-1fac-4cac-bd6c-e9a387680171",
   "metadata": {},
   "outputs": [],
   "source": [
    "def isPrime(num) :\n",
    "    for i in range(2,num) :\n",
    "        if num %i == 0:\n",
    "            return False\n",
    "    return True    \n",
    "def prime_generator(n) :\n",
    "    num = 2\n",
    "    while n:\n",
    "        if isPrime(num) :\n",
    "            yield num\n",
    "            n -= 1\n",
    "        num += 1\n",
    "    return    \n",
    "    "
   ]
  },
  {
   "cell_type": "code",
   "execution_count": 35,
   "id": "5bdc7dc7-b4bb-4621-87d3-a7308eee7dfd",
   "metadata": {},
   "outputs": [],
   "source": [
    "it = prime_generator(168)"
   ]
  },
  {
   "cell_type": "code",
   "execution_count": 36,
   "id": "69b99bab-b5f3-4901-8f53-15116466084d",
   "metadata": {},
   "outputs": [
    {
     "name": "stdout",
     "output_type": "stream",
     "text": [
      "2 3 5 7 11 13 17 19 23 29 31 37 41 43 47 53 59 61 67 71 73 79 83 89 97 101 103 107 109 113 127 131 137 139 149 151 157 163 167 173 179 181 191 193 197 199 211 223 227 229 233 239 241 251 257 263 269 271 277 281 283 293 307 311 313 317 331 337 347 349 353 359 367 373 379 383 389 397 401 409 419 421 431 433 439 443 449 457 461 463 467 479 487 491 499 503 509 521 523 541 547 557 563 569 571 577 587 593 599 601 607 613 617 619 631 641 643 647 653 659 661 673 677 683 691 701 709 719 727 733 739 743 751 757 761 769 773 787 797 809 811 821 823 827 829 839 853 857 859 863 877 881 883 887 907 911 919 929 937 941 947 953 967 971 977 983 991 997 "
     ]
    }
   ],
   "source": [
    "for e in it:\n",
    "    list = [print(e, end = ' ')]"
   ]
  },
  {
   "cell_type": "code",
   "execution_count": null,
   "id": "d7fd4c3f-a577-472a-bce2-384015bfd769",
   "metadata": {},
   "outputs": [],
   "source": []
  }
 ],
 "metadata": {
  "kernelspec": {
   "display_name": "Python 3 (ipykernel)",
   "language": "python",
   "name": "python3"
  },
  "language_info": {
   "codemirror_mode": {
    "name": "ipython",
    "version": 3
   },
   "file_extension": ".py",
   "mimetype": "text/x-python",
   "name": "python",
   "nbconvert_exporter": "python",
   "pygments_lexer": "ipython3",
   "version": "3.10.8"
  }
 },
 "nbformat": 4,
 "nbformat_minor": 5
}
