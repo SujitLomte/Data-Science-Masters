{
 "cells": [
  {
   "cell_type": "markdown",
   "id": "35451291-d4bd-4f10-b4e0-9637c3d6050c",
   "metadata": {},
   "source": [
    "# 7Feb Assignment"
   ]
  },
  {
   "cell_type": "markdown",
   "id": "ccde7a4f-8d07-4ee2-b952-dac6d758f725",
   "metadata": {},
   "source": [
    "## Q-1 . You are writing code for a company. The requirement of the company is that you create a python function that will check whether the password entered by the user is correct or not. The function should take the password as input and return the string “Valid Password” if the entered password follows the below-given password guidelines else it should return “Invalid Password”.\n",
    "## Note: 1. The Password should contain at least two uppercase letters and at least two lowercase letters.\n",
    "## 2. The Password should contain at least a number and three special characters.\n",
    "## 3. The length of the password should be 10 characters long"
   ]
  },
  {
   "cell_type": "code",
   "execution_count": 4,
   "id": "b88abfdc-5b8f-47ce-b097-81d5dd8937d8",
   "metadata": {},
   "outputs": [
    {
     "name": "stdin",
     "output_type": "stream",
     "text": [
      "Enter Your Password:  AAaa@#$12a\n"
     ]
    },
    {
     "name": "stdout",
     "output_type": "stream",
     "text": [
      "Valid Password\n"
     ]
    }
   ],
   "source": [
    "import re\n",
    "\n",
    "def check_password(password):\n",
    "    if len(password) != 10:\n",
    "        return \"Invalid Password\"\n",
    "    if not re.search(\"[a-z]{2,}\", password):\n",
    "        return \"Invalid Password\"\n",
    "    if not re.search(\"[A-Z]{2,}\", password):\n",
    "        return \"Invalid Password\"\n",
    "    if not re.search(\"[0-9]+\", password):\n",
    "        return \"Invalid Password\"\n",
    "    if not re.search(\"[!@#$%^&*]+\", password):\n",
    "        return \"Invalid Password\"\n",
    "    return \"Valid Password\"\n",
    "\n",
    "password = input(\"Enter Your Password: \")\n",
    "print(check_password(password))\n"
   ]
  },
  {
   "cell_type": "markdown",
   "id": "67851afe-46a5-49d1-a37c-b7f11b3b4d2f",
   "metadata": {},
   "source": [
    "## Q-2  Solve the below-given questions using at least one of the following: \n",
    "1. Lambda function\n",
    "2. Filter function\n",
    "3. Zap function\n",
    "4. List Comprehension\n",
    "\n",
    "* Check if the string starts with a particular letter.\n",
    "* Check if the string is numeric.\n",
    "* Sort a list of tuples having fruit names and their quantity. [(\"mango\",99),(\"orange\",80), (\"grapes\", 1000)]\n",
    "* Find the squares of numbers from 1 to 10.\n",
    "* Find the cube root of numbers from 1 to 10.\n",
    "* Check if a given number is even.\n",
    "* Filter odd numbers from the given list. [1,2,3,4,5,6,7,8,9,10]\n",
    "* Sort a list of integers into positive and negative integers lists.\n",
    "[1,2,3,4,5,6,-1,-2,-3,-4,-5,0]"
   ]
  },
  {
   "cell_type": "code",
   "execution_count": 6,
   "id": "13861e15-23f6-4fd5-a642-deddb6dc83e3",
   "metadata": {},
   "outputs": [
    {
     "name": "stdout",
     "output_type": "stream",
     "text": [
      "True\n"
     ]
    }
   ],
   "source": [
    "## Check if the string starts with a particular letterY\n",
    "## Ans-\n",
    "string = \"Hello World\"\n",
    "starts_with_h = lambda x: x.startswith(\"H\")\n",
    "print(starts_with_h(string))\n"
   ]
  },
  {
   "cell_type": "code",
   "execution_count": 7,
   "id": "22c48af9-feb2-408c-80ae-fcd0cbca7393",
   "metadata": {},
   "outputs": [
    {
     "name": "stdout",
     "output_type": "stream",
     "text": [
      "True\n"
     ]
    }
   ],
   "source": [
    "## Check if the string is numeric\n",
    "string = \"12345\"\n",
    "is_numeric = lambda x: x.isdigit()\n",
    "print(is_numeric(string))\n"
   ]
  },
  {
   "cell_type": "code",
   "execution_count": 9,
   "id": "9c0164bf-26c4-4f2b-8f25-f251d1500212",
   "metadata": {},
   "outputs": [
    {
     "name": "stdout",
     "output_type": "stream",
     "text": [
      "[('orange', 80), ('mango', 99), ('grapes', 1000)]\n"
     ]
    }
   ],
   "source": [
    "## Sort a list of tuples having fruit names and their quantity. [(\"mango\",99),(\"orange\",80), (\"grapes\", 1000)]\n",
    "fruits = [(\"mango\",99),(\"orange\",80),(\"grapes\",1000)]\n",
    "sorted_fruits = sorted(fruits, key=lambda x: x[1])\n",
    "print(sorted_fruits)\n"
   ]
  },
  {
   "cell_type": "code",
   "execution_count": 10,
   "id": "34e43f81-7398-4389-bfe4-8ea7af3c003e",
   "metadata": {},
   "outputs": [
    {
     "name": "stdout",
     "output_type": "stream",
     "text": [
      "[1, 4, 9, 16, 25, 36, 49, 64, 81, 100]\n"
     ]
    }
   ],
   "source": [
    "## B Find the squares of numbers from 1 to 10\n",
    "numbers = range(1, 11)\n",
    "squared_numbers = map(lambda x: x**2, numbers)\n",
    "print(list(squared_numbers))\n"
   ]
  },
  {
   "cell_type": "code",
   "execution_count": 11,
   "id": "02631bf2-f5c6-42dc-9d6d-ba39ff011c51",
   "metadata": {},
   "outputs": [
    {
     "name": "stdout",
     "output_type": "stream",
     "text": [
      "[1.0, 1.2599210498948732, 1.4422495703074083, 1.5874010519681994, 1.7099759466766968, 1.8171205928321397, 1.912931182772389, 2.0, 2.080083823051904, 2.154434690031884]\n"
     ]
    }
   ],
   "source": [
    "## Find the cube root of numbers from 1 to 10\n",
    "import math\n",
    "\n",
    "numbers = range(1, 11)\n",
    "cuberoot_numbers = map(lambda x: math.pow(x, 1/3), numbers)\n",
    "print(list(cuberoot_numbers))"
   ]
  },
  {
   "cell_type": "code",
   "execution_count": 12,
   "id": "e8745b76-e75b-41f0-955a-d09eb5b72bf6",
   "metadata": {},
   "outputs": [
    {
     "name": "stdout",
     "output_type": "stream",
     "text": [
      "True\n"
     ]
    }
   ],
   "source": [
    "## B Check if a given number is even\n",
    "number = 4\n",
    "is_even = lambda x: x % 2 == 0\n",
    "print(is_even(number))"
   ]
  },
  {
   "cell_type": "code",
   "execution_count": 13,
   "id": "e6353e08-7b27-4f75-b7cb-5184a1862851",
   "metadata": {},
   "outputs": [
    {
     "name": "stdout",
     "output_type": "stream",
     "text": [
      "[1, 3, 5, 7, 9]\n"
     ]
    }
   ],
   "source": [
    "## Filter odd numbers from the given list.[1,2,3,4,5,6,7,8,9,10]\n",
    "numbers = [1,2,3,4,5,6,7,8,9,10]\n",
    "odd_numbers = filter(lambda x: x % 2 != 0, numbers)\n",
    "print(list(odd_numbers))\n"
   ]
  },
  {
   "cell_type": "code",
   "execution_count": 14,
   "id": "6e05a2f5-b2eb-4ff6-a9f4-6f35171b08f1",
   "metadata": {},
   "outputs": [
    {
     "name": "stdout",
     "output_type": "stream",
     "text": [
      "[1, 2, 3, 4, 5, 6]\n",
      "[-1, -2, -3, -4, -5]\n"
     ]
    }
   ],
   "source": [
    "## B Sort a list of integers into positive and negative integers lists.[1,2,3,4,5,6,-1,-2,-3,-4,-5,0]\n",
    "numbers = [1,2,3,4,5,6,-1,-2,-3,-4,-5,0]\n",
    "positive_numbers = filter(lambda x: x > 0, numbers)\n",
    "negative_numbers = filter(lambda x: x < 0, numbers)\n",
    "print(list(positive_numbers))\n",
    "print(list(negative_numbers))"
   ]
  },
  {
   "cell_type": "code",
   "execution_count": null,
   "id": "6a80200f-f5ba-42e1-8f51-1cbcb306667f",
   "metadata": {},
   "outputs": [],
   "source": []
  }
 ],
 "metadata": {
  "kernelspec": {
   "display_name": "Python 3 (ipykernel)",
   "language": "python",
   "name": "python3"
  },
  "language_info": {
   "codemirror_mode": {
    "name": "ipython",
    "version": 3
   },
   "file_extension": ".py",
   "mimetype": "text/x-python",
   "name": "python",
   "nbconvert_exporter": "python",
   "pygments_lexer": "ipython3",
   "version": "3.10.8"
  }
 },
 "nbformat": 4,
 "nbformat_minor": 5
}
