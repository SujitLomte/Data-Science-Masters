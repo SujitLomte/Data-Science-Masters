{
 "cells": [
  {
   "cell_type": "markdown",
   "id": "9005308f-ff57-4908-854d-b5ff28f1a54b",
   "metadata": {},
   "source": [
    "## Assignment-1"
   ]
  },
  {
   "cell_type": "markdown",
   "id": "fb60a13b-2ae4-4f8a-8114-eb871b7190d4",
   "metadata": {},
   "source": [
    "* Q-1 Who developed Python Programming language?"
   ]
  },
  {
   "cell_type": "markdown",
   "id": "bcd43a3c-8703-4f5f-891e-e43aaf546c16",
   "metadata": {},
   "source": [
    "Ans- Python was created by Guido van Rossum, and first released on February 20, 1991"
   ]
  },
  {
   "cell_type": "markdown",
   "id": "69ecbf7e-f3fc-43a0-bd12-0e74feadb9f6",
   "metadata": {},
   "source": [
    "* Q-2 which type of programming does python support?"
   ]
  },
  {
   "cell_type": "markdown",
   "id": "324a6675-1150-41bb-a281-0905d94bba38",
   "metadata": {},
   "source": [
    "Ans- \n",
    "Python is an interpreted programming language, supporting object-oriented, structured, and functional programming."
   ]
  },
  {
   "cell_type": "markdown",
   "id": "d58e5928-d756-4fa9-a182-317956822b26",
   "metadata": {},
   "source": [
    "* Q-3 Is python case sensitive when dealing with identifiers? "
   ]
  },
  {
   "cell_type": "markdown",
   "id": "889935fb-63a4-4b81-b8ec-4651e6d611c0",
   "metadata": {},
   "source": [
    "Ans- Yes, Python is a case-sensitive language that is it treat upper case and lowercase character differently."
   ]
  },
  {
   "cell_type": "markdown",
   "id": "b97c2880-fa93-430c-a6e6-57d003a54223",
   "metadata": {},
   "source": [
    "* Q-4 What is the correct extension of the Python file?"
   ]
  },
  {
   "cell_type": "markdown",
   "id": "8cc1f5ed-1da2-4e41-911b-5915615eb5e9",
   "metadata": {},
   "source": [
    "Ans- .py is correct extension of the Python file"
   ]
  },
  {
   "cell_type": "markdown",
   "id": "2ce12a0a-e99b-4cc8-b480-a2691e33119f",
   "metadata": {},
   "source": [
    "* Q-5 Is python code compiled or interpreted?"
   ]
  },
  {
   "cell_type": "markdown",
   "id": "406a31ae-3a15-48a5-b107-2e76708a71bd",
   "metadata": {},
   "source": [
    "Ans- Python is both compiled as well as an interpreted language, which means when we run a python code, it is first compiled and then interpreted line by line. The compile part gets deleted as soon as the code gets executed in Python."
   ]
  },
  {
   "cell_type": "markdown",
   "id": "20e2462c-48e7-47cc-996c-0ce04e679394",
   "metadata": {},
   "source": [
    "* Q-6 Name a few blocks of code used to define in python language?"
   ]
  },
  {
   "cell_type": "code",
   "execution_count": 1,
   "id": "a5ecef3c-8436-48e8-b41c-8e2d7c7d5a27",
   "metadata": {},
   "outputs": [
    {
     "name": "stdout",
     "output_type": "stream",
     "text": [
      "0\n",
      "1\n",
      "2\n",
      "3\n",
      "4\n",
      "5\n",
      "6\n",
      "7\n",
      "8\n",
      "9\n"
     ]
    }
   ],
   "source": [
    "##Ans- With Indentation we write block of code in python.\n",
    "##for ex\n",
    "def print_number():\n",
    "    for x in range(10):\n",
    "        print(x)\n",
    "print_number()\n"
   ]
  },
  {
   "cell_type": "markdown",
   "id": "9674463c-f3c9-4324-95f4-37680c6fcdff",
   "metadata": {},
   "source": [
    "* Q-7 State a character used to give single-line comments in Python?"
   ]
  },
  {
   "cell_type": "markdown",
   "id": "b5ad2e9d-f2cd-473b-88c6-b63ec5f3d151",
   "metadata": {},
   "source": [
    "Ans- Hash character(#) is used to comment the line in the Python program.\n"
   ]
  },
  {
   "cell_type": "markdown",
   "id": "b8d8c1bf-140b-4e52-af9d-16959e97cdfa",
   "metadata": {},
   "source": [
    "* Q-8 Mention functions which can help us to find the version of python that we are currently working on?"
   ]
  },
  {
   "cell_type": "markdown",
   "id": "f07dba39-377a-4add-bed3-d3b541782d09",
   "metadata": {},
   "source": [
    "Ans- The function \"sys. version\" can help us to find the version of python that we are currently working on."
   ]
  },
  {
   "cell_type": "markdown",
   "id": "7ac50611-f0dd-4197-8b90-c8d0ca5b2df2",
   "metadata": {},
   "source": [
    "* Q-9 Python supports the creation of anonymous function, using a construct called _ _ _ _ _ _ _ _ _"
   ]
  },
  {
   "cell_type": "markdown",
   "id": "66886a2b-b61e-484b-b220-033a9a775aa5",
   "metadata": {},
   "source": [
    "Ans-  Lambda keyword"
   ]
  },
  {
   "cell_type": "markdown",
   "id": "4c668357-6931-4119-b050-e38ae12d2e74",
   "metadata": {},
   "source": [
    "* Q-10 What does pip stand for Python?"
   ]
  },
  {
   "cell_type": "markdown",
   "id": "062dcc56-c28a-42ff-a046-c6c9c688a1a6",
   "metadata": {},
   "source": [
    "Ans-  pip stands for \"preferred installer program\"."
   ]
  },
  {
   "cell_type": "markdown",
   "id": "0d29f13d-c2e8-4814-ae4a-c8b02248fb81",
   "metadata": {},
   "source": [
    "* Q-11 Mention a few built-in-functions in Python?"
   ]
  },
  {
   "cell_type": "markdown",
   "id": "4dc8552a-ccc1-4b04-9e7d-ad357cf864b7",
   "metadata": {},
   "source": [
    "Ans- print( ) function, type( ) function, input( ) function, max( ) function, len( ) function, etc"
   ]
  },
  {
   "cell_type": "markdown",
   "id": "b5600914-6f03-4ebf-8f70-9030b7afd39b",
   "metadata": {},
   "source": [
    "* Q-12 What is the maximum possible length of an identifier in Python?"
   ]
  },
  {
   "cell_type": "markdown",
   "id": "1cd3b44a-a5a1-42ee-b919-a18064201298",
   "metadata": {},
   "source": [
    "Ans-  An identifier can have a maximum length of 79 characters in Python."
   ]
  },
  {
   "cell_type": "markdown",
   "id": "75e3828b-1155-44b2-881b-6a25d52624b4",
   "metadata": {},
   "source": [
    "* Q-13 What are the benefits of using Python?"
   ]
  },
  {
   "cell_type": "markdown",
   "id": "7002faa7-ce6f-4a4f-87f0-d1d9dc037bbd",
   "metadata": {},
   "source": [
    "Ans-  Python easy to learn, but also, it’s flexible. Python is used in Many Industries. It has Extensive support libraries.Pythosn is Open source and large active community base langauge. It has application use in Database Access, Software Development, Language Development, Scripting,Data Science and Machine Learning, Finance and trading, Scientific and mathematical computing, Web development,etc. "
   ]
  },
  {
   "cell_type": "markdown",
   "id": "9344c195-a6af-4cbc-8719-45605fed8714",
   "metadata": {},
   "source": [
    "* Q-14 How is memory Managed in Python?"
   ]
  },
  {
   "cell_type": "markdown",
   "id": "0e599485-8097-4e43-adf2-d97a9314d6bc",
   "metadata": {},
   "source": [
    "Python uses a portion of the memory for internal use and non-object memory. Another part of the memory is used for Python object such as int, dict, list, etc. CPython contains the object allocator that allocates memory within the object area. The object allocator gets a call every time the new object needs space.\n",
    "In Python memory allocation and deallocation method is automatic as the Python developers created a garbage collector for Python so that the user does not have to do manual garbage collection."
   ]
  },
  {
   "cell_type": "markdown",
   "id": "ff89bff9-9a2c-43bf-b426-815aeece4bb8",
   "metadata": {},
   "source": [
    "* Q-15 How to install python on windows and set path variables?"
   ]
  },
  {
   "cell_type": "markdown",
   "id": "1a267e35-dbcb-4646-b180-d5d1b438dc5f",
   "metadata": {},
   "source": [
    "Ans- Steps to install python on Windows\n",
    "Step 1: Download the Python Installer binaries, \n",
    "Step 2: Run the Executable Installer, \n",
    "Step 3: Add Python to environmental variables,\n",
    "Step 4: Verify the Python Installation\n",
    " \n",
    "To set Path Variables\n",
    "Step 1: Right-clicking This PC and going to Properties.\n",
    "Step 2: Clicking on the Advanced system settings in the menu on the left.\n",
    "Step 3: Clicking on the Environment Variables button on the bottom right.\n",
    "Step 4: In the System variables section, selecting the Path variable and clicking on Edit. The next screen will show all the directories that are currently a part of the PATH variable.\n",
    "Step 5: Clicking on New and entering Python’s install directory."
   ]
  },
  {
   "cell_type": "markdown",
   "id": "53e639d1-a1af-4b1b-ad6b-b5149a477b11",
   "metadata": {},
   "source": [
    "* Q-16 Is indentation required in Python?"
   ]
  },
  {
   "cell_type": "markdown",
   "id": "e8a40146-8c5c-4b93-83ee-98a5005eeaf5",
   "metadata": {},
   "source": [
    "Ans- Indentation is mandatory in python to define the blocks of statements."
   ]
  },
  {
   "cell_type": "code",
   "execution_count": null,
   "id": "45879ef3-e6c9-4950-8436-75047bad6e69",
   "metadata": {},
   "outputs": [],
   "source": []
  }
 ],
 "metadata": {
  "kernelspec": {
   "display_name": "Python 3 (ipykernel)",
   "language": "python",
   "name": "python3"
  },
  "language_info": {
   "codemirror_mode": {
    "name": "ipython",
    "version": 3
   },
   "file_extension": ".py",
   "mimetype": "text/x-python",
   "name": "python",
   "nbconvert_exporter": "python",
   "pygments_lexer": "ipython3",
   "version": "3.10.8"
  }
 },
 "nbformat": 4,
 "nbformat_minor": 5
}
