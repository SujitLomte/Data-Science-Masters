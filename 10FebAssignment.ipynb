{
 "cells": [
  {
   "cell_type": "markdown",
   "id": "3b15e638-eb11-4303-81ad-8c0b92cbd503",
   "metadata": {},
   "source": [
    "# 10 Feb Assignment"
   ]
  },
  {
   "cell_type": "markdown",
   "id": "148b061d-47a8-47f3-b38a-a4820d91e0fe",
   "metadata": {},
   "source": [
    "## Q-1 Which function is used to open a file? What are the different modes of opening a file? Explain each mode of file opening."
   ]
  },
  {
   "cell_type": "markdown",
   "id": "1ee4e0ab-1537-4964-94f1-9b2ae4522d81",
   "metadata": {},
   "source": [
    "## Ans- The open function is used to open a file in Python. The different modes of opening a file are:\n",
    "\n",
    "* 'r' (read only) mode: This is the default mode, which opens the file for reading only.\n",
    "* 'w' (write only) mode: This mode opens the file for writing. If the file already exists, its contents are truncated and the file is overwritten. If the file does not exist, it is created.\n",
    "* 'a' (append only) mode: This mode opens the file for writing. If the file already exists, data is appended to the end of the file. If the file does not exist, it is created.\n",
    "* 'x' (exclusive creation) mode: This mode opens the file for writing, but only if the file does not already exist. If the file already exists, the open function raises an error.\n",
    "* 'b' (binary) mode: This mode is used to open a binary file."
   ]
  },
  {
   "cell_type": "markdown",
   "id": "2ecccb5f-47c9-4d7a-b600-08dc17f28c41",
   "metadata": {},
   "source": [
    "## Q-2  Why close() function is used? Why is it important to close a file?"
   ]
  },
  {
   "cell_type": "markdown",
   "id": "811467f4-5d73-455f-8664-6e7d82fdb021",
   "metadata": {},
   "source": [
    "## Ans- The close() function is used to close an open file in Python. Closing a file is important because it ensures that all changes made to the file during its open state are saved and any system resources used by the file are freed up. When a file is not closed, the data may not be properly saved, leading to data loss or corruption, and the system resources used by the file may not be released, leading to performance problems or resource exhaustion.\n",
    "\n",
    "## Additionally, when a file is not closed, it can cause issues if the same file is opened again by the same program or another program. For example, if a file is opened in write mode and not closed, it cannot be opened again until it is closed, and if it is opened by another program, the data may not be up-to-date."
   ]
  },
  {
   "cell_type": "markdown",
   "id": "60092da1-079c-46df-8b3e-55adc740e852",
   "metadata": {},
   "source": [
    "## Q-3  Write a python program to create a text file. Write ‘I want to become a Data Scientist’ in that file. Then close the file. Open this file and read the content of the file. "
   ]
  },
  {
   "cell_type": "code",
   "execution_count": 2,
   "id": "f507e2de-539f-4b84-9c17-fb302ee4e0e6",
   "metadata": {},
   "outputs": [],
   "source": [
    "with open(\"textfile.txt\", \"w\") as file:\n",
    "    file.write(\"I want to become a Data Scientist\")"
   ]
  },
  {
   "cell_type": "code",
   "execution_count": 3,
   "id": "61bdc9a8-1d5b-40bf-9136-78c193ad54a3",
   "metadata": {},
   "outputs": [
    {
     "name": "stdout",
     "output_type": "stream",
     "text": [
      "I want to become a Data Scientist\n"
     ]
    }
   ],
   "source": [
    "with open(\"textfile.txt\", \"r\") as file:\n",
    "    contents = file.read()\n",
    "    print(contents)"
   ]
  },
  {
   "cell_type": "markdown",
   "id": "95f5e529-44ad-4fd3-8ec7-4b27b68b47f0",
   "metadata": {},
   "source": [
    "## Q-4  Explain the following with python code: read(), readline() and readlines()."
   ]
  },
  {
   "cell_type": "markdown",
   "id": "9529b43e-8e2a-4d16-94f9-0884dfdbb419",
   "metadata": {},
   "source": [
    "## Ans- In Python, read(), readline() and readlines() are methods used to read the contents of a text file."
   ]
  },
  {
   "cell_type": "markdown",
   "id": "6a82530f-64d4-4dfb-94f6-4e7526783ce8",
   "metadata": {},
   "source": [
    "## read() method: This method reads the entire contents of a text file and returns it as a string."
   ]
  },
  {
   "cell_type": "code",
   "execution_count": null,
   "id": "fa3b4382-a86f-406d-9c57-a317174905c8",
   "metadata": {},
   "outputs": [],
   "source": [
    "with open(\"textfile.txt\", \"r\") as file:\n",
    "    contents = file.read()\n",
    "    print(contents)"
   ]
  },
  {
   "cell_type": "markdown",
   "id": "b82976c8-2610-49c3-8047-71587b7ee9c4",
   "metadata": {},
   "source": [
    "## readline() method: This method reads the contents of a text file line by line and returns the contents of the first line as a string. It is commonly used in a loop to read the entire contents of a text file line by line."
   ]
  },
  {
   "cell_type": "code",
   "execution_count": null,
   "id": "cd590906-d565-4a87-8674-790b88bd2560",
   "metadata": {},
   "outputs": [],
   "source": [
    "with open(\"textfile.txt\", \"r\") as file:\n",
    "    line = file.readline()\n",
    "    while line:\n",
    "        print(line)\n",
    "        line = file.readline()"
   ]
  },
  {
   "cell_type": "markdown",
   "id": "4467abca-4c56-490f-9c76-03191e731217",
   "metadata": {},
   "source": [
    "## readlines() method: This method reads the contents of a text file line by line and returns a list of strings where each element of the list is a line from the text file."
   ]
  },
  {
   "cell_type": "code",
   "execution_count": null,
   "id": "0a84212a-bf9d-4f2d-a282-fe0c287d5176",
   "metadata": {},
   "outputs": [],
   "source": [
    "with open(\"textfile.txt\", \"r\") as file:\n",
    "    lines = file.readlines()\n",
    "    for line in lines:\n",
    "        print(line)"
   ]
  },
  {
   "cell_type": "markdown",
   "id": "4abfc8c3-f92e-4df1-a239-70a967630472",
   "metadata": {},
   "source": [
    "## Q-5  Explain why with statement is used with open(). What is the advantage of using with statement and open() together?"
   ]
  },
  {
   "cell_type": "markdown",
   "id": "4a206a15-80b1-4bbf-924a-a5a880ed8b91",
   "metadata": {},
   "source": [
    "## Ans- The with statement is used in Python to manage the lifecycle of resources, such as file objects. The advantage of using with in combination with open() is that it provides a way to automatically close the file when you are finished with it, even if an exception is raised in the code block.\n",
    "\n",
    "## When you open a file using the open() function, you need to explicitly close the file using the close() method when you're done working with it. If you forget to close the file, it could lead to resource leaks or other issues.\n",
    "\n",
    "## The with statement provides a convenient way to ensure that a file is closed properly, even if an exception is raised. When the code block within the with statement is executed, the file is automatically closed when the block is exited, even if an exception is raised."
   ]
  },
  {
   "cell_type": "code",
   "execution_count": null,
   "id": "eea890bb-8514-4ea1-b57a-3129d262fdb0",
   "metadata": {},
   "outputs": [],
   "source": [
    "with open(\"textfile.txt\", \"r\") as file:\n",
    "    contents = file.read()\n",
    "    print(contents)"
   ]
  },
  {
   "cell_type": "markdown",
   "id": "b099751d-85c9-4101-83c9-42e79d2403e8",
   "metadata": {},
   "source": [
    "## Q-6 Explain the write() and writelines() functions. Give a suitable example."
   ]
  },
  {
   "cell_type": "markdown",
   "id": "9c80783f-2b4d-4b43-bb54-045a6f8318ee",
   "metadata": {},
   "source": [
    "## Ans- In Python, the write() and writelines() functions are used to write text to a file.\n",
    "\n",
    "## write() is used to write a single string to a file. The string must be passed as an argument to the write() method, and the file must be opened in write mode using the \"w\" mode or append mode using the \"a\" mode. \n"
   ]
  },
  {
   "cell_type": "code",
   "execution_count": 7,
   "id": "cb294523-913d-49ee-b927-37afdaa82e69",
   "metadata": {},
   "outputs": [],
   "source": [
    "with open(\"textfile.txt\", \"w\") as file:\n",
    "    file.write(\"I want to become a Data Scientist\")"
   ]
  },
  {
   "cell_type": "markdown",
   "id": "b8f291fb-5dda-4c75-b539-c7f2751490e7",
   "metadata": {},
   "source": [
    "## writelines() is used to write a list of strings to a file. Each string in the list must be written to a new line in the file. The list must be passed as an argument to the writelines() method, and the file must be opened in write mode using the \"w\" mode or append mode using the \"a\" mode."
   ]
  },
  {
   "cell_type": "code",
   "execution_count": 8,
   "id": "49fb34d0-d849-4fe0-8825-6b8ea87726e3",
   "metadata": {},
   "outputs": [],
   "source": [
    "with open(\"textfile.txt\", \"w\") as file:\n",
    "    lines = [\"I want to become a Data Scientist\", \"Data Science is my passion\"]\n",
    "    file.writelines(lines)"
   ]
  },
  {
   "cell_type": "code",
   "execution_count": null,
   "id": "e129c544-6833-49d3-b3e0-274958202599",
   "metadata": {},
   "outputs": [],
   "source": []
  }
 ],
 "metadata": {
  "kernelspec": {
   "display_name": "Python 3 (ipykernel)",
   "language": "python",
   "name": "python3"
  },
  "language_info": {
   "codemirror_mode": {
    "name": "ipython",
    "version": 3
   },
   "file_extension": ".py",
   "mimetype": "text/x-python",
   "name": "python",
   "nbconvert_exporter": "python",
   "pygments_lexer": "ipython3",
   "version": "3.10.8"
  }
 },
 "nbformat": 4,
 "nbformat_minor": 5
}
