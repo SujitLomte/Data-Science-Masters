{
 "cells": [
  {
   "cell_type": "markdown",
   "id": "800c2558-f5a0-4222-bb67-3f96d79ae25f",
   "metadata": {},
   "source": [
    "# 5Feb Assignment"
   ]
  },
  {
   "cell_type": "code",
   "execution_count": 1,
   "id": "f682a02a-25d0-4d19-a7e4-23306ad72ea1",
   "metadata": {},
   "outputs": [],
   "source": [
    "## Q-1  Explain Class and Object with respect to Object-Oriented Programming. Give a suitable example"
   ]
  },
  {
   "cell_type": "markdown",
   "id": "b4fc9ec6-a65a-41ba-810c-2dca317d6c11",
   "metadata": {},
   "source": [
    "## Ans - In Python every thing is an object. To create objects we required some Model or Plan or Blue print, which is nothing but class.\n",
    "## We can write a class to represent properties (attributes) and actions (behaviour) of object.\n",
    "## Properties can be represented by variables and Actions can be represented by Methods.Hence class contains both variables and methods.\n",
    "## We can define a class by using class keyword.\n",
    "## object \n",
    "## Pysical existence of a class is nothing but object. We can create any number of objects for a class."
   ]
  },
  {
   "cell_type": "code",
   "execution_count": 2,
   "id": "113fc084-3dc9-4937-87d5-81bb890482e3",
   "metadata": {},
   "outputs": [],
   "source": [
    "## class Ex-\n",
    "class pwskills:\n",
    "    def welcome_msg(self):\n",
    "        print(\"Welcome to pwskills Python Tutorial!\")"
   ]
  },
  {
   "cell_type": "code",
   "execution_count": 3,
   "id": "1c331685-7eeb-402e-a219-a5180f9f00a2",
   "metadata": {},
   "outputs": [],
   "source": [
    "sujit = pwskills()"
   ]
  },
  {
   "cell_type": "code",
   "execution_count": 4,
   "id": "6feeb18b-951c-4ec0-856f-f26e811527a8",
   "metadata": {},
   "outputs": [
    {
     "name": "stdout",
     "output_type": "stream",
     "text": [
      "Welcome to pwskills Python Tutorial!\n"
     ]
    }
   ],
   "source": [
    "sujit.welcome_msg()"
   ]
  },
  {
   "cell_type": "code",
   "execution_count": 7,
   "id": "e1eca2fa-8799-40d1-b1cd-eddffd2d4ce6",
   "metadata": {},
   "outputs": [],
   "source": [
    "## object Ex-\n",
    "class pwskills1:\n",
    "    def __init__(self, phone_number, email_id, student_id):\n",
    "        self.phone_number = phone_number\n",
    "        self.email_id = email_id\n",
    "        self.student_id = student_id\n",
    "        \n",
    "    def return_student_detail(self):\n",
    "        return self.phone_number, self.email_id, self.student_id"
   ]
  },
  {
   "cell_type": "code",
   "execution_count": 9,
   "id": "e6612ae6-ae19-4419-85e4-f180dd135fe6",
   "metadata": {},
   "outputs": [],
   "source": [
    "sujit = pwskills1(123456789, \"sujit@gmail.com\", 7856)"
   ]
  },
  {
   "cell_type": "code",
   "execution_count": 10,
   "id": "3860b0f1-c25c-4527-a3f6-eba2bc4d21d2",
   "metadata": {},
   "outputs": [
    {
     "data": {
      "text/plain": [
       "(123456789, 'sujit@gmail.com', 7856)"
      ]
     },
     "execution_count": 10,
     "metadata": {},
     "output_type": "execute_result"
    }
   ],
   "source": [
    "sujit.return_student_detail()"
   ]
  },
  {
   "cell_type": "markdown",
   "id": "78352538-6870-48cf-bf23-5a313857ec24",
   "metadata": {},
   "source": [
    "## Q-2  Name the four pillars of OOPs."
   ]
  },
  {
   "cell_type": "markdown",
   "id": "fc7700b7-a749-4cb0-925d-9be31fc14ed6",
   "metadata": {},
   "source": [
    "## Ans- Like other Object-Oriented languages, when creating objects using classes, there are four(4) basic principles for writing clean and concise code. These principles are called the four pillars of object-oriented programming (OOP). These four pillars are Inheritance, Polymorphism, Encapsulation and Abstraction."
   ]
  },
  {
   "cell_type": "markdown",
   "id": "f8b54a5d-f43f-48a1-8b02-464644c43611",
   "metadata": {},
   "source": [
    "## Q-3  Explain why the __init__() function is used. Give a suitable example."
   ]
  },
  {
   "cell_type": "markdown",
   "id": "9cb377c2-a748-4478-a109-4aa048679e78",
   "metadata": {},
   "source": [
    "## Ans- The __init__ function is called every time an object is created from a class. The __init__ method lets the class initialize the object's attributes and serves no other purpose. It is only used within classes."
   ]
  },
  {
   "cell_type": "code",
   "execution_count": 11,
   "id": "457ef816-943f-41ac-beb5-81c8d4c21d4d",
   "metadata": {},
   "outputs": [],
   "source": [
    "class Dog:                   \n",
    "    def __init__(self,dogBreed,dogColor):\n",
    "        self.breed = dogBreed       \n",
    "        self.Color = dogColor\n",
    "        \n",
    "    def return_dog_details(self):\n",
    "        return self.breed, self.Color"
   ]
  },
  {
   "cell_type": "code",
   "execution_count": 13,
   "id": "a85f6779-0fce-4ef1-93ca-3715c321c791",
   "metadata": {},
   "outputs": [],
   "source": [
    "d = Dog(\"german shepherd\", \"black\")"
   ]
  },
  {
   "cell_type": "code",
   "execution_count": 15,
   "id": "731f1933-6d75-4a6d-b835-b5fe67c1fa70",
   "metadata": {},
   "outputs": [
    {
     "data": {
      "text/plain": [
       "('german shepherd', 'black')"
      ]
     },
     "execution_count": 15,
     "metadata": {},
     "output_type": "execute_result"
    }
   ],
   "source": [
    "d.return_dog_details()"
   ]
  },
  {
   "cell_type": "markdown",
   "id": "ee4f799a-25f6-434a-8a3e-bff14f8b72a8",
   "metadata": {},
   "source": [
    "## Q-4  Why self is used in OOPs?"
   ]
  },
  {
   "cell_type": "markdown",
   "id": "201fe428-1bfc-4706-8461-b2505b59165d",
   "metadata": {},
   "source": [
    "## Ans- self represents the instance of the class. By using the “self” we can access the attributes and methods of the class in python. It binds the attributes with the given arguments. The reason you need to use self. is because Python does not use the @ syntax to refer to instance attributes."
   ]
  },
  {
   "cell_type": "markdown",
   "id": "84a9af72-60dd-49ad-b318-dce194584bd1",
   "metadata": {},
   "source": [
    "## Q-5 What is inheritance? Give an example for each type of inheritance."
   ]
  },
  {
   "cell_type": "markdown",
   "id": "952b3244-209b-4505-9634-828e1a5aed87",
   "metadata": {},
   "source": [
    "## Ans- Inheritance allows us to define a class that inherits all the methods and properties from another class. Parent class is the class being inherited from, also called base class. Child class is the class that inherits from another class, also called derived class."
   ]
  },
  {
   "cell_type": "code",
   "execution_count": 18,
   "id": "de03ce30-77ab-4be3-82f2-0e0cdedf7cc1",
   "metadata": {},
   "outputs": [],
   "source": [
    "class Person:\n",
    "    def __init__(self, fname, lname):\n",
    "        self.firstname = fname\n",
    "        self.lastname = lname\n",
    "\n",
    "    def printname(self):\n",
    "        print(self.firstname, self.lastname)"
   ]
  },
  {
   "cell_type": "code",
   "execution_count": 19,
   "id": "5031b7d7-fa61-4b25-8892-1f9dd486f709",
   "metadata": {},
   "outputs": [],
   "source": [
    "x = Person(\"Sujit\",\"Lomte\")"
   ]
  },
  {
   "cell_type": "code",
   "execution_count": 20,
   "id": "6b562711-9719-451c-bcd5-845aff3627c3",
   "metadata": {},
   "outputs": [
    {
     "name": "stdout",
     "output_type": "stream",
     "text": [
      "Sujit Lomte\n"
     ]
    }
   ],
   "source": [
    "x.printname()"
   ]
  },
  {
   "cell_type": "code",
   "execution_count": null,
   "id": "1571a723-f88f-4bea-8fd1-6538b0b12bee",
   "metadata": {},
   "outputs": [],
   "source": []
  }
 ],
 "metadata": {
  "kernelspec": {
   "display_name": "Python 3 (ipykernel)",
   "language": "python",
   "name": "python3"
  },
  "language_info": {
   "codemirror_mode": {
    "name": "ipython",
    "version": 3
   },
   "file_extension": ".py",
   "mimetype": "text/x-python",
   "name": "python",
   "nbconvert_exporter": "python",
   "pygments_lexer": "ipython3",
   "version": "3.10.8"
  }
 },
 "nbformat": 4,
 "nbformat_minor": 5
}
