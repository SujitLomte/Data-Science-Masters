{
 "cells": [
  {
   "cell_type": "markdown",
   "id": "f2aa225f-e8f3-4d88-8e00-2524661ccb3a",
   "metadata": {},
   "source": [
    "# 9 Feb Assignment"
   ]
  },
  {
   "cell_type": "markdown",
   "id": "6ac07904-d922-49df-9f5a-9a780235d060",
   "metadata": {},
   "source": [
    "## Q-1  Create a vehicle class with an init method having instance variables as name_of_vehicle, max_speed and average_of_vehicle."
   ]
  },
  {
   "cell_type": "code",
   "execution_count": 2,
   "id": "3a7e9438-84d5-4807-938c-b9c7efa326f6",
   "metadata": {},
   "outputs": [],
   "source": [
    "class Vehicle:\n",
    "    def __init__(self, name_of_vehicle, max_speed, average_of_vehicle):\n",
    "        self.name_of_vehicle = name_of_vehicle\n",
    "        self.max_speed = max_speed\n",
    "        self.average_of_vehicle = average_of_vehicle"
   ]
  },
  {
   "cell_type": "code",
   "execution_count": 3,
   "id": "65b9fc93-e0b5-4af1-afc3-bfa9e46b0d91",
   "metadata": {},
   "outputs": [
    {
     "name": "stdout",
     "output_type": "stream",
     "text": [
      "Car\n",
      "120\n",
      "60\n"
     ]
    }
   ],
   "source": [
    "car = Vehicle(\"Car\", 120, 60)\n",
    "print(car.name_of_vehicle)  \n",
    "print(car.max_speed)\n",
    "print(car.average_of_vehicle)  "
   ]
  },
  {
   "cell_type": "markdown",
   "id": "8c37d548-db96-44e9-9d57-30e7fb3e1708",
   "metadata": {},
   "source": [
    "## Q-2   Create a child class car from the vehicle class created in Que 1, which will inherit the vehicle class. Create a method named seating_capacity which takes capacity as an argument and returns the name of the vehicle and its seating capacity."
   ]
  },
  {
   "cell_type": "code",
   "execution_count": 5,
   "id": "1efac4a3-8e7a-4a38-9d73-10f7e141691a",
   "metadata": {},
   "outputs": [],
   "source": [
    "class Car(Vehicle):\n",
    "    def seating_capacity(self, capacity):\n",
    "        return f\"{self.name_of_vehicle} with seating capacity: {capacity}\""
   ]
  },
  {
   "cell_type": "code",
   "execution_count": 6,
   "id": "a5336a5a-a44f-472c-9883-cc214d7ca90f",
   "metadata": {},
   "outputs": [
    {
     "name": "stdout",
     "output_type": "stream",
     "text": [
      "Sedan with seating capacity: 5\n"
     ]
    }
   ],
   "source": [
    "my_car = Car(\"Sedan\", 140, 80)\n",
    "print(my_car.seating_capacity(5))"
   ]
  },
  {
   "cell_type": "markdown",
   "id": "7f0217e3-c8f9-40ef-998e-8c1664e58a39",
   "metadata": {},
   "source": [
    "## Q-3  What is multiple inheritance? Write a python code to demonstrate multiple inheritance."
   ]
  },
  {
   "cell_type": "markdown",
   "id": "1e7656f8-6ede-48af-ba55-9f6ea59f9b54",
   "metadata": {},
   "source": [
    "## Ans- Multiple inheritance is a feature in object-oriented programming that allows a class to inherit properties and methods from more than one parent class. In multiple inheritance, a child class can inherit from multiple parent classes, thus gaining access to the attributes and behaviors defined in each of them."
   ]
  },
  {
   "cell_type": "code",
   "execution_count": 7,
   "id": "615aaa68-7940-45c3-8824-e08066038c41",
   "metadata": {},
   "outputs": [
    {
     "name": "stdout",
     "output_type": "stream",
     "text": [
      "Making a call\n",
      "Browser opened\n",
      "Taking a picture\n"
     ]
    }
   ],
   "source": [
    "class Phone:\n",
    "    def call(self):\n",
    "        return \"Making a call\"\n",
    "    \n",
    "    def send_sms(self):\n",
    "        return \"Sending SMS\"\n",
    "\n",
    "class Computer:\n",
    "    def open_browser(self):\n",
    "        return \"Browser opened\"\n",
    "    \n",
    "    def write_code(self):\n",
    "        return \"Writing code\"\n",
    "\n",
    "class SmartPhone(Phone, Computer):\n",
    "    def take_picture(self):\n",
    "        return \"Taking a picture\"\n",
    "\n",
    "my_phone = SmartPhone()\n",
    "print(my_phone.call())  \n",
    "print(my_phone.open_browser())  \n",
    "print(my_phone.take_picture()) "
   ]
  },
  {
   "cell_type": "markdown",
   "id": "cd4f2a24-0c68-4675-8405-3e980f291533",
   "metadata": {},
   "source": [
    "## Q-4  What are getter and setter in python? Create a class and create a getter and a setter method in this class"
   ]
  },
  {
   "cell_type": "markdown",
   "id": "7c543324-0c71-470d-bfc7-625bc8e97254",
   "metadata": {},
   "source": [
    "## Ans- Getters and Setters are methods used to access and modify the value of a class's private attributes. The main purpose of using getters and setters is to provide controlled access to the private data members and ensure data consistency and integrity."
   ]
  },
  {
   "cell_type": "code",
   "execution_count": 8,
   "id": "d02e5be2-f898-4f45-8831-c3b0aa026673",
   "metadata": {},
   "outputs": [
    {
     "name": "stdout",
     "output_type": "stream",
     "text": [
      "Sujit Lomte\n",
      "Lomte Sujit\n"
     ]
    }
   ],
   "source": [
    "class Person:\n",
    "    def __init__(self, name, age):\n",
    "        self.__name = name\n",
    "        self.__age = age\n",
    "\n",
    "    def get_name(self):\n",
    "        return self.__name\n",
    "\n",
    "    def set_name(self, name):\n",
    "        self.__name = name\n",
    "\n",
    "    def get_age(self):\n",
    "        return self.__age\n",
    "\n",
    "    def set_age(self, age):\n",
    "        self.__age = age\n",
    "\n",
    "person = Person(\"Sujit Lomte\", 30)\n",
    "print(person.get_name()) \n",
    "person.set_name(\"Lomte Sujit\")\n",
    "print(person.get_name()) "
   ]
  },
  {
   "cell_type": "markdown",
   "id": "04e420f4-16cc-4b9b-80ea-799e789fd2b2",
   "metadata": {},
   "source": [
    "## Q-5 What is method overriding in python? Write a python code to demonstrate method overriding."
   ]
  },
  {
   "cell_type": "markdown",
   "id": "2bf21705-65ad-4eb7-9acb-45462ea4da30",
   "metadata": {},
   "source": [
    "## Ans- Method Overriding in Python is a mechanism where a subclass provides a different implementation for a method that is already provided by its parent class. When a method in the subclass has the same name and arguments as a method in the parent class, it is said to override the parent class method. This allows the subclass to have a different behavior for the same method, which is specific to the requirements of the subclass."
   ]
  },
  {
   "cell_type": "code",
   "execution_count": 12,
   "id": "3362fd91-30de-406d-ac33-094716361cb9",
   "metadata": {},
   "outputs": [
    {
     "name": "stdout",
     "output_type": "stream",
     "text": [
      "78.5\n"
     ]
    }
   ],
   "source": [
    "class Circle:\n",
    "    def __init__(self, radius):\n",
    "        self.radius = radius\n",
    "        \n",
    "    def area(self):\n",
    "        return 3.14 * self.radius * self.radius\n",
    "\n",
    "circle = Circle(5)\n",
    "print(circle.area())"
   ]
  },
  {
   "cell_type": "code",
   "execution_count": null,
   "id": "8be94c03-520b-4948-a14d-10d48efa4bf2",
   "metadata": {},
   "outputs": [],
   "source": []
  },
  {
   "cell_type": "code",
   "execution_count": null,
   "id": "6e79c06b-c226-4ce0-b822-a7efeb884820",
   "metadata": {},
   "outputs": [],
   "source": []
  }
 ],
 "metadata": {
  "kernelspec": {
   "display_name": "Python 3 (ipykernel)",
   "language": "python",
   "name": "python3"
  },
  "language_info": {
   "codemirror_mode": {
    "name": "ipython",
    "version": 3
   },
   "file_extension": ".py",
   "mimetype": "text/x-python",
   "name": "python",
   "nbconvert_exporter": "python",
   "pygments_lexer": "ipython3",
   "version": "3.10.8"
  }
 },
 "nbformat": 4,
 "nbformat_minor": 5
}
