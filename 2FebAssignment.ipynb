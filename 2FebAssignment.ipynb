{
 "cells": [
  {
   "cell_type": "markdown",
   "id": "55007a75-b0b8-4d33-8f06-46d29ec7c5d5",
   "metadata": {},
   "source": [
    "# 2 Feb Assignment\n"
   ]
  },
  {
   "cell_type": "markdown",
   "id": "e8384ee2-c7c0-46d6-8e82-fdd269fa2020",
   "metadata": {},
   "source": [
    "## Q-1 What are the characteristics of the tuple?Is tuple immutable?"
   ]
  },
  {
   "cell_type": "markdown",
   "id": "18d8fb2b-5287-4714-a94c-636be17582fb",
   "metadata": {},
   "source": [
    "### Ans- Tuple items are ordered, unchangeable, and allow duplicate values.\n",
    "Tuple items are indexed, the first item has index [0], the second item has index [1] etc.\n",
    "When we say that tuples are ordered, it means that the items have a defined order, and that order will not change.\n",
    "Tuples are unchangeable, meaning that we cannot change, add or remove items after the tuple has been created.\n",
    "Since tuples are indexed, they can have items with the same value.\n",
    "* Yes Tupples are immutable"
   ]
  },
  {
   "cell_type": "markdown",
   "id": "474c7ed5-516b-4662-976c-7591026f70ff",
   "metadata": {},
   "source": [
    "## Q-2 What are the two tuple method in python? Give an example of each method. Give a reason why tuples have pnly two in-build methods as compared to lists."
   ]
  },
  {
   "cell_type": "markdown",
   "id": "ff0b9def-c14b-4792-a235-21f8d570d97d",
   "metadata": {},
   "source": [
    "### Ans- There are only two tuple methods count() and index()"
   ]
  },
  {
   "cell_type": "code",
   "execution_count": 2,
   "id": "945e10b3-8707-4a4b-9a95-6aef6ac53fa4",
   "metadata": {},
   "outputs": [
    {
     "name": "stdout",
     "output_type": "stream",
     "text": [
      "('apple', 'banana', 'cherry')\n"
     ]
    }
   ],
   "source": [
    "### Ex-\n",
    "tuple = (\"apple\", \"banana\", \"cherry\")\n",
    "print(tuple)"
   ]
  },
  {
   "cell_type": "code",
   "execution_count": 12,
   "id": "27bd55c8-dafd-4026-8c5d-3358f2572c08",
   "metadata": {},
   "outputs": [
    {
     "data": {
      "text/plain": [
       "1"
      ]
     },
     "execution_count": 12,
     "metadata": {},
     "output_type": "execute_result"
    }
   ],
   "source": [
    "tuple.count(\"apple\")"
   ]
  },
  {
   "cell_type": "code",
   "execution_count": 13,
   "id": "607c8dc4-009f-404e-808d-bb649f14d97f",
   "metadata": {},
   "outputs": [
    {
     "data": {
      "text/plain": [
       "2"
      ]
     },
     "execution_count": 13,
     "metadata": {},
     "output_type": "execute_result"
    }
   ],
   "source": [
    "tuple.index(\"cherry\")"
   ]
  },
  {
   "cell_type": "code",
   "execution_count": 14,
   "id": "eb207d5a-88a4-404d-8936-0d3ac53f32d7",
   "metadata": {},
   "outputs": [],
   "source": [
    "## Ex-2\n",
    "tuple1 = (True, 'sudh', (45+7j), 45.45, 45 , 4, 3, 2, 1)"
   ]
  },
  {
   "cell_type": "code",
   "execution_count": 15,
   "id": "b8f0bd3c-993d-44d4-bd81-874b68aed45f",
   "metadata": {},
   "outputs": [
    {
     "data": {
      "text/plain": [
       "2"
      ]
     },
     "execution_count": 15,
     "metadata": {},
     "output_type": "execute_result"
    }
   ],
   "source": [
    "tuple1.count(True)"
   ]
  },
  {
   "cell_type": "code",
   "execution_count": 17,
   "id": "9783e8d7-9bde-4da2-b527-78d44072c59e",
   "metadata": {},
   "outputs": [
    {
     "data": {
      "text/plain": [
       "1"
      ]
     },
     "execution_count": 17,
     "metadata": {},
     "output_type": "execute_result"
    }
   ],
   "source": [
    "tuple1.index('sudh')"
   ]
  },
  {
   "cell_type": "markdown",
   "id": "3049bd14-2dfb-45a2-952e-de3f54f0fb43",
   "metadata": {},
   "source": [
    "## Q-3 Which collection datatypes in python do not allow duplicates item? Write a code using a set to remove duplicates from the given list"
   ]
  },
  {
   "cell_type": "code",
   "execution_count": 19,
   "id": "42c3ce44-52c5-4d98-a21d-c49217eb073d",
   "metadata": {},
   "outputs": [],
   "source": [
    "list = [1,1,1,2,1,3,1,4,2,1,2,2,2,3,2,4,3,1,3,2,3,3,3,4,4,1,4,2,4,3,4,4]"
   ]
  },
  {
   "cell_type": "markdown",
   "id": "2b0b99b1-b412-4789-8c2c-c50309902f0e",
   "metadata": {},
   "source": [
    "## Ans-  A set is unique in Python. It does not allow duplicates."
   ]
  },
  {
   "cell_type": "code",
   "execution_count": 20,
   "id": "a0951127-34c4-4b7d-9d4d-b9520b7e3628",
   "metadata": {},
   "outputs": [
    {
     "data": {
      "text/plain": [
       "{1, 2, 3, 4}"
      ]
     },
     "execution_count": 20,
     "metadata": {},
     "output_type": "execute_result"
    }
   ],
   "source": [
    "list = [1,1,1,2,1,3,1,4,2,1,2,2,2,3,2,4,3,1,3,2,3,3,3,4,4,1,4,2,4,3,4,4]\n",
    "set(list)"
   ]
  },
  {
   "cell_type": "markdown",
   "id": "f86ace8c-0b28-45df-81dd-0fc5c7b4f17c",
   "metadata": {},
   "source": [
    "## Q-4 Explain the difference between the union() and update() method for a set. Give an example of each method."
   ]
  },
  {
   "cell_type": "markdown",
   "id": "ffe0d9f5-2a31-4b66-9b7c-684b0ecfef85",
   "metadata": {},
   "source": [
    "### Ans- The union() method returns a set that contains all items from the original set, and all items from the specified set(s).\n",
    "### The update() method updates the current set, by adding items from another set (or any other iterable)."
   ]
  },
  {
   "cell_type": "code",
   "execution_count": 23,
   "id": "ee05699b-f932-44ea-a789-a7c5a2685eba",
   "metadata": {},
   "outputs": [],
   "source": [
    "A = {1,2,3,4}\n",
    "B = {4,5,6,7}\n"
   ]
  },
  {
   "cell_type": "code",
   "execution_count": 25,
   "id": "4bca100e-336c-4c9d-b645-8d44d6ec7be2",
   "metadata": {},
   "outputs": [
    {
     "name": "stdout",
     "output_type": "stream",
     "text": [
      "{1, 2, 3, 4, 5, 6, 7}\n"
     ]
    }
   ],
   "source": [
    "print(A.union(B))"
   ]
  },
  {
   "cell_type": "code",
   "execution_count": 30,
   "id": "fd7eca05-736c-4731-922f-891f03a8024b",
   "metadata": {},
   "outputs": [
    {
     "name": "stdout",
     "output_type": "stream",
     "text": [
      "{'banana', 'google', 'microsoft', 'cherry', 'apple'}\n"
     ]
    }
   ],
   "source": [
    "x = {\"apple\", \"banana\", \"cherry\"}\n",
    "y = {\"google\", \"microsoft\", \"apple\"}\n",
    "\n",
    "x.update(y) \n",
    "\n",
    "print(x)\n"
   ]
  },
  {
   "cell_type": "markdown",
   "id": "64deba1e-f182-4b07-9c66-50a84dafd39a",
   "metadata": {},
   "source": [
    "## Q-5 What is a dictionary? Give an example. Also, state whether a dictionary is ordered or unordered."
   ]
  },
  {
   "cell_type": "markdown",
   "id": "6396d30b-310c-438f-933b-c08e14b69e20",
   "metadata": {},
   "source": [
    "### Ans- The dictionary is an unordered collection that contains key:value pairs separated by commas inside curly brackets. Dictionaries are optimized to ### retrieve values when the key is known.\n",
    "### A dictionary is a collection which is ordered*, changeable and do not allow duplicates."
   ]
  },
  {
   "cell_type": "code",
   "execution_count": 33,
   "id": "1152963c-05a9-4399-a864-e50d70873df5",
   "metadata": {},
   "outputs": [
    {
     "name": "stdout",
     "output_type": "stream",
     "text": [
      "{'brand': 'Ford', 'model': 'Mustang', 'year': 1964}\n"
     ]
    }
   ],
   "source": [
    "dict =\t{\n",
    "  \"brand\": \"Ford\",\n",
    "  \"model\": \"Mustang\",\n",
    "  \"year\": 1964\n",
    "}\n",
    "print(dict)\n"
   ]
  },
  {
   "cell_type": "markdown",
   "id": "0e65b9e8-e28a-41b3-a2d4-8d8dab378540",
   "metadata": {},
   "source": [
    "## Q-6  Can we create a nested dictionary? If so, please give an example by creating a simple one-level nested dictionary."
   ]
  },
  {
   "cell_type": "markdown",
   "id": "984cc25a-10cb-48d4-8221-ad7ecacc4e10",
   "metadata": {},
   "source": [
    "### Ans- A dictionary can contain dictionaries, this is called nested dictionaries."
   ]
  },
  {
   "cell_type": "code",
   "execution_count": 37,
   "id": "d8ac4eaf-9467-44d3-b6a2-91cb45307822",
   "metadata": {},
   "outputs": [],
   "source": [
    "myfamily = {\n",
    "  \"child1\" : {\n",
    "    \"name\" : \"Ajay\",\n",
    "    \"year\" : 2004\n",
    "  },\n",
    "  \"child2\" : {\n",
    "    \"name\" : \"Vijay\",\n",
    "    \"year\" : 2007\n",
    "  }\n",
    "}"
   ]
  },
  {
   "cell_type": "code",
   "execution_count": 38,
   "id": "6bb4164c-c808-4e3a-858d-b9063b25e6ee",
   "metadata": {},
   "outputs": [
    {
     "name": "stdout",
     "output_type": "stream",
     "text": [
      "{'child1': {'name': 'Ajay', 'year': 2004}, 'child2': {'name': 'Vijay', 'year': 2007}}\n"
     ]
    }
   ],
   "source": [
    "print(myfamily)"
   ]
  },
  {
   "cell_type": "markdown",
   "id": "4a4837b8-76e0-4895-87da-790cf393b051",
   "metadata": {},
   "source": [
    "## Q-7 . Using setdefault() method, create key named topics in the given dictionary and also add the value of the key as this list ['Python', 'Machine Learning’, 'Deep Learning']\n",
    "## dict1 = {'language' : 'Python', 'course': 'Data Science Masters'}"
   ]
  },
  {
   "cell_type": "code",
   "execution_count": 48,
   "id": "bc3bcd80-0bac-4ae8-8c6b-743b579db12a",
   "metadata": {},
   "outputs": [],
   "source": [
    "## Ans-\n",
    "dict1 = {'language' : 'Python', 'course': 'Data Science Masters'}\n",
    "dict1 = dict1.setdefault('Topics',['Python', 'Machine learning', 'Deep Learning'])"
   ]
  },
  {
   "cell_type": "code",
   "execution_count": 50,
   "id": "cda80dbe-cf72-44dc-ad04-dc205150582a",
   "metadata": {},
   "outputs": [
    {
     "name": "stdout",
     "output_type": "stream",
     "text": [
      "{'language': 'Python', 'course': 'Data Science Masters', 'Topics': ['Python', 'Machine learning', 'Deep Learning']}\n"
     ]
    }
   ],
   "source": [
    "print(dict1)"
   ]
  },
  {
   "cell_type": "code",
   "execution_count": 49,
   "id": "7cee8c6a-c67f-40b8-ac2a-f5e8445502b4",
   "metadata": {},
   "outputs": [
    {
     "data": {
      "text/plain": [
       "{'language': 'Python',\n",
       " 'course': 'Data Science Masters',\n",
       " 'Topics': ['Python', 'Machine learning', 'Deep Learning']}"
      ]
     },
     "execution_count": 49,
     "metadata": {},
     "output_type": "execute_result"
    }
   ],
   "source": [
    "dict1"
   ]
  },
  {
   "cell_type": "markdown",
   "id": "d70fbaf0-84f4-4011-b5c5-c1f25f33c00a",
   "metadata": {},
   "source": [
    "## Q-8  What are the three view objects in dictionaries? Use the three in-built methods in python to display these three view objects for the given dictionary. \n",
    "## dict1 = {'Sport': 'Cricket' , 'Teams': ['India', 'Australia', 'England', 'South Africa', 'Sri Lanka', 'New Zealand']}"
   ]
  },
  {
   "cell_type": "markdown",
   "id": "2d8e1721-66d2-4894-9b3e-13f9373efde3",
   "metadata": {},
   "source": [
    "### Ans- In the python dictionaries, some of the methods return view objects. This view objects are dynamic view objects, meaning that when we made some changes in the dictionary then the view reflects all these changes.\n",
    "### The main view objects of dictionary in python are keys, values and items. They provide a non-constant view of the dictionary’s entries.\n",
    "### Keys holds all the keys of the dictionary, the values objects holds all the values, whereas the items holds the key-value pairs."
   ]
  },
  {
   "cell_type": "code",
   "execution_count": null,
   "id": "f1cb8330-b9e6-4c92-956c-428cbd0c524f",
   "metadata": {},
   "outputs": [],
   "source": []
  }
 ],
 "metadata": {
  "kernelspec": {
   "display_name": "Python 3 (ipykernel)",
   "language": "python",
   "name": "python3"
  },
  "language_info": {
   "codemirror_mode": {
    "name": "ipython",
    "version": 3
   },
   "file_extension": ".py",
   "mimetype": "text/x-python",
   "name": "python",
   "nbconvert_exporter": "python",
   "pygments_lexer": "ipython3",
   "version": "3.10.8"
  }
 },
 "nbformat": 4,
 "nbformat_minor": 5
}
